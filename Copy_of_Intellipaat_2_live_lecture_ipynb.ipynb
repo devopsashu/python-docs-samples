{
  "nbformat": 4,
  "nbformat_minor": 0,
  "metadata": {
    "colab": {
      "provenance": [],
      "authorship_tag": "ABX9TyPmuWUUT86y+p39S5d+lydh",
      "include_colab_link": true
    },
    "kernelspec": {
      "name": "python3",
      "display_name": "Python 3"
    },
    "language_info": {
      "name": "python"
    }
  },
  "cells": [
    {
      "cell_type": "markdown",
      "metadata": {
        "id": "view-in-github",
        "colab_type": "text"
      },
      "source": [
        "<a href=\"https://colab.research.google.com/github/devopsashu/python-docs-samples/blob/main/Copy_of_Intellipaat_2_live_lecture_ipynb.ipynb\" target=\"_parent\"><img src=\"https://colab.research.google.com/assets/colab-badge.svg\" alt=\"Open In Colab\"/></a>"
      ]
    },
    {
      "cell_type": "code",
      "execution_count": null,
      "metadata": {
        "id": "1NXXDSGDySdp"
      },
      "outputs": [],
      "source": [
        "#variable\n",
        "a=10\n",
        "arr1=2020101\n",
        "name1=Rohan\n",
        "#a and A are different\n",
        "# only _ is allowed\n",
        "# _ or alphabet is allowed to start with\n",
        "# it cant start with numbers\n",
        "#you cant use keywords as variable"
      ]
    },
    {
      "cell_type": "code",
      "source": [
        "#literals==used to assign raw values or data\n",
        "#string literal: everything inside quotes  '' or \"\"\n",
        "#boolean literal : true or false\n",
        "#special literal : Absence of value is called None or special literals\n",
        "#numeric literal: which are having numeric values. int, float, long and complex are the types of numeric literals.\n",
        "\n",
        "\n"
      ],
      "metadata": {
        "id": "98qC9WWhyyoH"
      },
      "execution_count": null,
      "outputs": []
    },
    {
      "cell_type": "code",
      "source": [
        "#data types: define the type of given data\n",
        "#Immutable data type: that can't be changed. (numeric data type, strings, tuples)\n",
        "#mutable data types: datat which can be changed (lists,dictionaries, sets)\n"
      ],
      "metadata": {
        "id": "ppYjRy4Pznmh"
      },
      "execution_count": null,
      "outputs": []
    },
    {
      "cell_type": "code",
      "source": [
        "#numeric data type :\n",
        "a=1283748748\n",
        "print(type(a)) #type function is used when we dont knw the type of our data variable. Numeric data will cover int, float and complex data types."
      ],
      "metadata": {
        "colab": {
          "base_uri": "https://localhost:8080/"
        },
        "id": "S0DSX-Pn0eQm",
        "outputId": "8bf8f224-996d-4c9a-a529-a45e91f9a3b4"
      },
      "execution_count": null,
      "outputs": [
        {
          "output_type": "stream",
          "name": "stdout",
          "text": [
            "<class 'int'>\n"
          ]
        }
      ]
    },
    {
      "cell_type": "code",
      "source": [
        "#string: characters, names, or anything under \"\" or ''\n",
        "name=\"Rohan\"\n",
        "print(type(name))"
      ],
      "metadata": {
        "colab": {
          "base_uri": "https://localhost:8080/"
        },
        "id": "rktCggqA1AX8",
        "outputId": "c9a8cff5-a2a5-4481-dfd0-5e016d8b0c1f"
      },
      "execution_count": null,
      "outputs": [
        {
          "output_type": "stream",
          "name": "stdout",
          "text": [
            "<class 'str'>\n"
          ]
        }
      ]
    },
    {
      "cell_type": "code",
      "source": [
        "#tuples: group of values inside (), we can store multiple item in a single variable. you cant change the value of tuples. tuples are ordered and you can store duplicate type of data inside tuples.\n",
        "#(ordered because it will store the values in the same way we entered the value), immutable, can store duplicate values\n",
        "mytuple1=(1,2,3,4)\n",
        "print(mytuple1)\n",
        "print(type(mytuple1))\n",
        "#lets say we want to know the length of a tuple:\n",
        "#len function\n",
        "print(len(mytuple1))\n",
        "#you can store any type of data inside tuples seperated by commas and stored inside the (), you can use mixed types of data inside the same tuple.\n",
        "#Indexing: lets say we want to print only the first value of our tuple.from starting, indexing will be start from 0 and from backwards indexings starts from -1.\n",
        "print(mytuple1[0])\n",
        "#you cant change the values inside a tuple.\n",
        "mytuple1[0]=100\n",
        "print(mytuple1)\n"
      ],
      "metadata": {
        "colab": {
          "base_uri": "https://localhost:8080/",
          "height": 263
        },
        "id": "Si6r-rA51QRY",
        "outputId": "aeacc7f4-f3d7-4d15-cff6-21546334ab48"
      },
      "execution_count": null,
      "outputs": [
        {
          "output_type": "stream",
          "name": "stdout",
          "text": [
            "(1, 2, 3, 4)\n",
            "<class 'tuple'>\n",
            "4\n",
            "1\n"
          ]
        },
        {
          "output_type": "error",
          "ename": "TypeError",
          "evalue": "'tuple' object does not support item assignment",
          "traceback": [
            "\u001b[0;31m---------------------------------------------------------------------------\u001b[0m",
            "\u001b[0;31mTypeError\u001b[0m                                 Traceback (most recent call last)",
            "\u001b[0;32m<ipython-input-11-69f1b4c67247>\u001b[0m in \u001b[0;36m<cell line: 13>\u001b[0;34m()\u001b[0m\n\u001b[1;32m     11\u001b[0m \u001b[0mprint\u001b[0m\u001b[0;34m(\u001b[0m\u001b[0mmytuple1\u001b[0m\u001b[0;34m[\u001b[0m\u001b[0;36m0\u001b[0m\u001b[0;34m]\u001b[0m\u001b[0;34m)\u001b[0m\u001b[0;34m\u001b[0m\u001b[0;34m\u001b[0m\u001b[0m\n\u001b[1;32m     12\u001b[0m \u001b[0;31m#you cant change the values inside a tuple.\u001b[0m\u001b[0;34m\u001b[0m\u001b[0;34m\u001b[0m\u001b[0m\n\u001b[0;32m---> 13\u001b[0;31m \u001b[0mmytuple1\u001b[0m\u001b[0;34m[\u001b[0m\u001b[0;36m0\u001b[0m\u001b[0;34m]\u001b[0m\u001b[0;34m=\u001b[0m\u001b[0;36m100\u001b[0m\u001b[0;34m\u001b[0m\u001b[0;34m\u001b[0m\u001b[0m\n\u001b[0m\u001b[1;32m     14\u001b[0m \u001b[0mprint\u001b[0m\u001b[0;34m(\u001b[0m\u001b[0mmytuple1\u001b[0m\u001b[0;34m)\u001b[0m\u001b[0;34m\u001b[0m\u001b[0;34m\u001b[0m\u001b[0m\n",
            "\u001b[0;31mTypeError\u001b[0m: 'tuple' object does not support item assignment"
          ]
        }
      ]
    },
    {
      "cell_type": "code",
      "source": [
        "#mutable data types: data can be altered\n",
        "#-list, set and dictionary\n",
        "#list: data stored inside [], used to store multiple items inside square brackets.\n",
        "mylist1 = [\"sourabh\", 'marmott', 'potty', \"ewwww\"]\n",
        "print(mylist1)\n",
        "print(type(mylist1))\n",
        "print(len(mylist1))\n",
        "print(mylist1[0])\n",
        "#difference between tuples and list.\n",
        "#tuples comes under immutable datatype, and list comes under mutable datatype.\n",
        "#you can access and change the items inside the lists."
      ],
      "metadata": {
        "colab": {
          "base_uri": "https://localhost:8080/"
        },
        "id": "1gTuqOCt2DtN",
        "outputId": "897add68-e101-416a-9cba-33af39d89fe1"
      },
      "execution_count": null,
      "outputs": [
        {
          "output_type": "stream",
          "name": "stdout",
          "text": [
            "['sourabh', 'marmott', 'potty', 'ewwww']\n",
            "<class 'list'>\n",
            "4\n",
            "sourabh\n"
          ]
        }
      ]
    },
    {
      "cell_type": "code",
      "source": [
        "#Lists:\n",
        "#you can access and change the items\n",
        "#for eg:\n",
        "mylist2=['library','vipin','smile']\n",
        "print(mylist2)\n",
        "\n",
        "#lets say i want to change the library from library to cherry.\n",
        "mylist2[0]='cherry'\n",
        "print(mylist2)\n",
        "print(mylist2[0])\n",
        "\n",
        "#add element to your lists\n",
        "mylist3=[\"gullu\", \"milky\"]\n",
        "mylist2=mylist2+mylist3\n",
        "print(mylist2)\n",
        "\n",
        "#or you can also use append function :\n",
        "mylist2.append(\"bullet\")\n",
        "print(mylist2)\n",
        "\n",
        "#lets say i want to add bike at second index:\n",
        "mylist2.insert(1,'bike')\n",
        "print(mylist2)"
      ],
      "metadata": {
        "colab": {
          "base_uri": "https://localhost:8080/"
        },
        "id": "1fPiUR2C3p8C",
        "outputId": "c7908572-953e-4fbe-f4e3-1308f923426e"
      },
      "execution_count": 2,
      "outputs": [
        {
          "output_type": "stream",
          "name": "stdout",
          "text": [
            "['library', 'vipin', 'smile']\n",
            "['cherry', 'vipin', 'smile']\n",
            "cherry\n",
            "['cherry', 'vipin', 'smile', 'gullu', 'milky']\n",
            "['cherry', 'vipin', 'smile', 'gullu', 'milky', 'bullet']\n",
            "['cherry', 'bike', 'vipin', 'smile', 'gullu', 'milky', 'bullet']\n"
          ]
        }
      ]
    },
    {
      "cell_type": "code",
      "source": [
        "#dictionaries:\n",
        "#a dict (short for dictionary) is a built-in data structure that stores data in key-value pairs. Each key in a dictionary is unique, and it maps to a value.\n",
        "#You can create a dictionary by placing a comma-separated list of key-value pairs inside curly braces {}. The keys and values are separated by a colon :\n",
        "dict1={1:'Popu', 2: 'Shruti', 3: \"Gulla\"}\n",
        "print(dict1)\n",
        "\n",
        "#dict are changeable, ordered and you can change the values accordingly. but duplicate items are not allowed in dict.\n",
        "#for eg:\n",
        "dict2={1:'shark', 2:'Ram', 3:'Nirmala', 4:'Nirma', 1:'Nirmala'}\n",
        "#both keys are same that is the reason why it is not printed as 1:shark.\n",
        "#The key 1 is repeated. The first key-value pair is 1: 'shark', but then it's overwritten by the second key-value pair 1: 'Nirmala'.\n",
        "print(dict2)\n",
        "\n",
        "#you can access the items with the key that are attached to the value,\n",
        "print(dict1[3])\n",
        "\n",
        "#or you can also access the values using get function.\n",
        "print(dict2.get(4))\n",
        "\n",
        "#for accessing all the keys only.\n",
        "print(dict1.keys())\n",
        "\n",
        "#for accessing all the values only\n",
        "print(dict2.values())\n",
        "\n",
        "#lets change the values of dict2 from Nirma to gulli\n",
        "dict2[2]=\"Ashu\"\n",
        "print(dict2)\n",
        "\n",
        "\n"
      ],
      "metadata": {
        "colab": {
          "base_uri": "https://localhost:8080/"
        },
        "id": "Um3cTIAN9dfx",
        "outputId": "1f4adb31-4eca-4326-869b-ff4fcbeac6c5"
      },
      "execution_count": 15,
      "outputs": [
        {
          "output_type": "stream",
          "name": "stdout",
          "text": [
            "{1: 'Popu', 2: 'Shruti', 3: 'Gulla'}\n",
            "{1: 'Nirmala', 2: 'Ram', 3: 'Nirmala', 4: 'Nirma'}\n",
            "Gulla\n",
            "Nirma\n",
            "dict_keys([1, 2, 3])\n",
            "dict_values(['Nirmala', 'Ram', 'Nirmala', 'Nirma'])\n",
            "{1: 'Nirmala', 2: 'Ashu', 3: 'Nirmala', 4: 'Nirma'}\n"
          ]
        }
      ]
    },
    {
      "cell_type": "code",
      "source": [
        "# sets : a set is an unordered collection of unique elements. Sets are commonly\n",
        "# used to store items where duplicate values are not allowed and where the order\n",
        "# of items doesn't matter. They are similar to mathematical sets and support\n",
        "# operations like union, intersection, and difference.\n",
        "# Sets are defined using curly braces {} or the set() constructor.\n",
        "#in set , you cant store duplicate values, u can only store unique values only\n",
        "set1={1, 'apple', 'guava', 'cherry'}\n",
        "print(set1)\n",
        "#set can change the order of the items accordingly.\n",
        "#even if you store two same values, it will give result output as only one value\n",
        "set2={1, 'apple', 'guava', 'cherry', 'apple'}\n",
        "print(set2)\n",
        "\n",
        "#set will only store UNIQUE values\n",
        "set3={1, 'apple', 'guava', 'True', 'apple', 1}\n",
        "print(set3)\n",
        "#sets thinsk true and 1 as same things.\n",
        "\n",
        "#lists v/s set\n",
        "#1.Lists can have duplicate values, set cant\n",
        "#2.Lists are ordered, sets are unondered.\n",
        "\n",
        "\n"
      ],
      "metadata": {
        "colab": {
          "base_uri": "https://localhost:8080/"
        },
        "id": "Zz9iMN3yZIXc",
        "outputId": "77a208a1-3e3b-4d7c-c753-0d5c91ad33de"
      },
      "execution_count": 18,
      "outputs": [
        {
          "output_type": "stream",
          "name": "stdout",
          "text": [
            "{'guava', 1, 'cherry', 'apple'}\n",
            "{'guava', 1, 'cherry', 'apple'}\n",
            "{'guava', 1, 'True', 'apple'}\n"
          ]
        }
      ]
    },
    {
      "cell_type": "code",
      "source": [
        "#If- else -elif condition:\n",
        "#The elif statement in Python is a shorthand for \"else if.\" It is used in conjunction with if and else statements to check multiple conditions. When writing a conditional block, you can use elif to add additional conditions after an initial if statement. If the condition in the if statement evaluates to False, Python will check the elif condition, and so on\n",
        "a=12\n",
        "b=209\n",
        "print(a>b)\n",
        "print (b>a)\n",
        "if a>b:\n",
        "    print(\"a is greater than b\")\n",
        "if a<b:\n",
        "    print(\"b is greater than a\")\n",
        "else:\n",
        "    print(\"a and b are equal\")\n",
        "\n",
        "#lets say a=b=200\n",
        "a=200\n",
        "b=200\n",
        "if a>b:\n",
        "    print(\"a is greater than b\")\n",
        "elif a==b:\n",
        "    print(\"both are equal\")\n",
        "else:\n",
        "    print(\"a is greater than b\")\n",
        "\n",
        "#nested if :\n",
        "#A nested if statement is an if statement placed inside another if statement.\n",
        "#This allows you to check multiple conditions at different levels of decision-making.\n",
        "# When the outer if condition is true, the code inside the block is executed,\n",
        "# which might include another if statement that checks an additional condition.\n",
        "# If the outer condition is false, the code inside the outer block is skipped.\n",
        "a=10\n",
        "if a<5:\n",
        "  print(\"greater than 5\")\n",
        "  if a<7:\n",
        "    print(\"greater than 7\")\n",
        "    if a<9:\n",
        "      print(\"greater than 9\")\n",
        "else:\n",
        "    print(\"value is 10\")\n",
        "# (if first if condition is true than only it will check for second condition,\n",
        "# otherwise it will not check for any condition and directly go for else part)\n",
        "\n"
      ],
      "metadata": {
        "colab": {
          "base_uri": "https://localhost:8080/"
        },
        "id": "WwUIEgtqfFH9",
        "outputId": "d22bac3b-df1d-470a-e8de-3d98b285fd46"
      },
      "execution_count": 31,
      "outputs": [
        {
          "output_type": "stream",
          "name": "stdout",
          "text": [
            "False\n",
            "True\n",
            "b is greater than a\n",
            "both are equal\n",
            "value is 10\n"
          ]
        }
      ]
    },
    {
      "cell_type": "code",
      "source": [
        "# indentation is crucial because it defines the structure and flow of your code.\n",
        "# Unlike many other programming languages that use braces {} or keywords to\n",
        "# define blocks of code, Python relies on indentation levels to determine which\n",
        "# statements belong to which blocks, such as loops, conditionals, and functions.\n"
      ],
      "metadata": {
        "id": "8J_o21DrpX3V"
      },
      "execution_count": null,
      "outputs": []
    },
    {
      "cell_type": "code",
      "source": [
        "#python loops\n",
        "#for loop and While loop\n",
        "#for loops:\n",
        "# for loop is used for iterating over a sequence (that is either a list, a tuple, a dictionary, a set, or a string).\n",
        "#exampe 1 : print numbers from 0 to 10\n",
        "for i in range(0,11): #(your loops always run in 1- ending range, lets say 11, so that it will result in 10 output)\n",
        "    print(i)\n",
        "#(lets say, we want to add a gap of 2 values, lets say 2,4,6 etc)\n",
        "for i in range(0,11,2):  #(this 2 will be considered as a gap of 2 values)\n",
        "    print(i)"
      ],
      "metadata": {
        "colab": {
          "base_uri": "https://localhost:8080/"
        },
        "id": "GQCQU04HoUE7",
        "outputId": "4d42ad4d-c22e-43ce-c6a2-dcf7c91062b5"
      },
      "execution_count": 34,
      "outputs": [
        {
          "output_type": "stream",
          "name": "stdout",
          "text": [
            "0\n",
            "1\n",
            "2\n",
            "3\n",
            "4\n",
            "5\n",
            "6\n",
            "7\n",
            "8\n",
            "9\n",
            "10\n",
            "0\n",
            "2\n",
            "4\n",
            "6\n",
            "8\n",
            "10\n"
          ]
        }
      ]
    },
    {
      "cell_type": "code",
      "source": [
        "#example2:\n",
        "for x in range(5,21,5):\n",
        " print(x)\n",
        "\n",
        "list1=[\"apple\", \"banana\", \"cherry\"]\n",
        "for x in list1:\n",
        "  print(x)"
      ],
      "metadata": {
        "colab": {
          "base_uri": "https://localhost:8080/"
        },
        "id": "ISLSGtmXpfU8",
        "outputId": "bcde38bc-ac0a-437f-def1-4314110596f0"
      },
      "execution_count": 38,
      "outputs": [
        {
          "output_type": "stream",
          "name": "stdout",
          "text": [
            "5\n",
            "10\n",
            "15\n",
            "20\n",
            "apple\n",
            "banana\n",
            "cherry\n"
          ]
        }
      ]
    },
    {
      "cell_type": "code",
      "source": [],
      "metadata": {
        "id": "xEAKDqmSekhf"
      },
      "execution_count": null,
      "outputs": []
    }
  ]
}